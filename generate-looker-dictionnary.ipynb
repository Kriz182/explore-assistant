{
  "cells": [
    {
      "cell_type": "code",
      "execution_count": null,
      "metadata": {
        "id": "w6MmeBUBJ-9E"
      },
      "outputs": [],
      "source": [
        "# @title Setup\n",
        "!pip install looker_sdk\n",
        "!pip install google-cloud-aiplatform --upgrade --user\n",
        "!pip install pandas\n",
        "\n",
        "from google.colab import auth\n",
        "from google.cloud import bigquery\n",
        "from google.colab import data_table\n",
        "import looker_sdk\n",
        "import pandas as pd\n",
        "import urllib3\n",
        "import os\n",
        "import yaml\n",
        "import string\n",
        "import random\n",
        "import json\n",
        "import time\n",
        "urllib3.disable_warnings(urllib3.exceptions.InsecureRequestWarning)\n",
        "\n",
        "os.environ['LOOKERSDK_BASE_URL'] = 'https://demo.looker.com'\n",
        "os.environ['LOOKERSDK_CLIENT_ID'] = 'xx'\n",
        "os.environ['LOOKERSDK_CLIENT_SECRET'] = 'xxx'\n",
        "os.environ['LOOKERSDK_VERIFY_SSL']= 'False'\n",
        "os.environ['LOOKERSDK_API_VERSION']= '4.0'\n",
        "os.environ[\"LOOKERSDK_TIMEOUT\"] = \"120\"\n",
        "\n",
        "sdk = looker_sdk.init40()"
      ]
    },
    {
      "cell_type": "markdown",
      "metadata": {
        "id": "pj42soltXW_H"
      },
      "source": [
        "## Generating a data dictionnary from Looker Instance\n",
        "Add description later to this"
      ]
    },
    {
      "cell_type": "code",
      "execution_count": null,
      "metadata": {
        "id": "KxSqPfAeXW_K"
      },
      "outputs": [],
      "source": [
        "def get_field_values(model_name, explore_name):\n",
        "\n",
        "    sdk = looker_sdk.init40()\n",
        "\n",
        "    # API Call to pull in metadata about fields in a particular explore\n",
        "    explore = sdk.lookml_model_explore(\n",
        "        lookml_model_name=model_name,\n",
        "        explore_name=explore_name,\n",
        "        fields=\"id, name, description, fields, label\",\n",
        "    )\n",
        "\n",
        "    measures = []\n",
        "    dimensions = []\n",
        "\n",
        "    # Iterate through the field definitions and pull in the description, sql,\n",
        "    # and other looker tags you might want to include in  your data dictionary.\n",
        "    if explore.fields and explore.fields.dimensions:\n",
        "        for dimension in explore.fields.dimensions:\n",
        "          def_dimension = {\n",
        "              \"name\": dimension.name,\n",
        "              \"description\": dimension.description,\n",
        "          }\n",
        "          dimensions.append(def_dimension)\n",
        "\n",
        "    if explore.fields and explore.fields.measures:\n",
        "        for measure in explore.fields.measures:\n",
        "          def_measure = {\n",
        "             \"name\": measure.name,\n",
        "             \"description\": measure.description,\n",
        "          }\n",
        "          measures.append(def_measure)\n",
        "\n",
        "\n",
        "    #print(dimensions)\n",
        "    #print(measures)\n",
        "    # Create a dataframe of the dimensions and metrics\n",
        "\n",
        "    #df = pd.concat([dimensions, measures])\n",
        "\n",
        "    return dimensions, measures"
      ]
    },
    {
      "cell_type": "markdown",
      "metadata": {
        "id": "eY-wNOGO11ON"
      },
      "source": [
        "# Getting and formatting the results correctly\n",
        "Add description later\n"
      ]
    },
    {
      "cell_type": "code",
      "execution_count": null,
      "metadata": {
        "id": "bIw82qhuHWy0",
        "outputId": "eecd0358-7c4a-4bde-cf26-01543182521b",
        "colab": {
          "base_uri": "https://localhost:8080/"
        }
      },
      "outputs": [
        {
          "output_type": "stream",
          "name": "stdout",
          "text": [
            "[{\"name\": \"discounts.date_date\", \"description\": \"\"}, {\"name\": \"discounts.date_day_of_month\", \"description\": \"\"}, {\"name\": \"discounts.date_day_of_week\", \"description\": \"\"}, {\"name\": \"discounts.date_day_of_week_index\", \"description\": \"\"}, {\"name\": \"discounts.date_day_of_year\", \"description\": \"\"}, {\"name\": \"discounts.date_hour\", \"description\": \"\"}, {\"name\": \"discounts.date_hour_of_day\", \"description\": \"\"}, {\"name\": \"discounts.date_minute\", \"description\": \"\"}, {\"name\": \"discounts.date_month\", \"description\": \"\"}, {\"name\": \"discounts.date_month_name\", \"description\": \"\"}, {\"name\": \"discounts.date_month_num\", \"description\": \"\"}, {\"name\": \"discounts.date_quarter\", \"description\": \"\"}, {\"name\": \"discounts.date_quarter_of_year\", \"description\": \"\"}, {\"name\": \"discounts.date_raw\", \"description\": \"\"}, {\"name\": \"discounts.date_time\", \"description\": \"\"}, {\"name\": \"discounts.date_time_of_day\", \"description\": \"\"}, {\"name\": \"discounts.date_week\", \"description\": \"\"}, {\"name\": \"discounts.date_week_of_year\", \"description\": \"\"}, {\"name\": \"discounts.date_year\", \"description\": \"\"}, {\"name\": \"discounts.discount_amount\", \"description\": \"\"}, {\"name\": \"discounts.discount_price\", \"description\": \"\"}, {\"name\": \"discounts.inventory_item_id\", \"description\": \"\"}, {\"name\": \"discounts.pk\", \"description\": \"\"}, {\"name\": \"discounts.product_id\", \"description\": \"\"}, {\"name\": \"discounts.retail_price\", \"description\": \"\"}, {\"name\": \"distribution_centers.id\", \"description\": \"\"}, {\"name\": \"distribution_centers.latitude\", \"description\": \"\"}, {\"name\": \"distribution_centers.location\", \"description\": \"\"}, {\"name\": \"distribution_centers.longitude\", \"description\": \"\"}, {\"name\": \"distribution_centers.name\", \"description\": \"\"}, {\"name\": \"inventory_items.cost\", \"description\": \"\"}, {\"name\": \"inventory_items.created_time\", \"description\": \"\"}, {\"name\": \"inventory_items.created_date\", \"description\": \"\"}, {\"name\": \"inventory_items.created_week\", \"description\": \"\"}, {\"name\": \"inventory_items.created_month\", \"description\": \"\"}, {\"name\": \"inventory_items.created_raw\", \"description\": \"\"}, {\"name\": \"inventory_items.days_in_inventory_tier\", \"description\": \"\"}, {\"name\": \"inventory_items.days_since_arrival\", \"description\": \"days since created - useful when filtering on sold yesno for items still in inventory\"}, {\"name\": \"inventory_items.days_since_arrival_tier\", \"description\": \"\"}, {\"name\": \"inventory_items.days_in_inventory\", \"description\": \"days between created and sold date\"}, {\"name\": \"inventory_items.id\", \"description\": \"\"}, {\"name\": \"inventory_items.is_sold\", \"description\": \"\"}, {\"name\": \"inventory_items.product_distribution_center_id\", \"description\": \"\"}, {\"name\": \"inventory_items.product_id\", \"description\": \"\"}, {\"name\": \"inventory_items.sold_time\", \"description\": \"\"}, {\"name\": \"inventory_items.sold_date\", \"description\": \"\"}, {\"name\": \"inventory_items.sold_week\", \"description\": \"\"}, {\"name\": \"inventory_items.sold_month\", \"description\": \"\"}, {\"name\": \"inventory_items.sold_raw\", \"description\": \"\"}, {\"name\": \"order_items.created_date\", \"description\": \"\"}, {\"name\": \"order_items.created_day_of_week\", \"description\": \"\"}, {\"name\": \"order_items.created_hour\", \"description\": \"\"}, {\"name\": \"order_items.created_hour_of_day\", \"description\": \"\"}, {\"name\": \"order_items.created_month\", \"description\": \"\"}, {\"name\": \"order_items.created_month_name\", \"description\": \"\"}, {\"name\": \"order_items.created_month_num\", \"description\": \"\"}, {\"name\": \"order_items.created_raw\", \"description\": \"\"}, {\"name\": \"order_items.created_time\", \"description\": \"\"}, {\"name\": \"order_items.created_week\", \"description\": \"\"}, {\"name\": \"order_items.created_week_of_year\", \"description\": \"\"}, {\"name\": \"order_items.created_year\", \"description\": \"\"}, {\"name\": \"order_items.days_since_sold\", \"description\": \"\"}, {\"name\": \"order_items.days_to_process\", \"description\": \"\"}, {\"name\": \"order_items.delivered_date\", \"description\": \"\"}, {\"name\": \"order_items.delivered_month\", \"description\": \"\"}, {\"name\": \"order_items.delivered_raw\", \"description\": \"\"}, {\"name\": \"order_items.delivered_week\", \"description\": \"\"}, {\"name\": \"order_items.gross_margin\", \"description\": \"\"}, {\"name\": \"order_items.id\", \"description\": \"\"}, {\"name\": \"order_items.inventory_item_id\", \"description\": \"\"}, {\"name\": \"order_items.is_returned\", \"description\": \"\"}, {\"name\": \"order_items.item_gross_margin_percentage\", \"description\": \"\"}, {\"name\": \"order_items.item_gross_margin_percentage_tier\", \"description\": \"\"}, {\"name\": \"order_items.order_id\", \"description\": \"\"}, {\"name\": \"order_items.order_id_no_actions\", \"description\": \"\"}, {\"name\": \"order_items.repeat_orders_within_15d\", \"description\": \"\"}, {\"name\": \"order_items.reporting_period\", \"description\": \"\"}, {\"name\": \"order_items.returned_date\", \"description\": \"\"}, {\"name\": \"order_items.returned_month\", \"description\": \"\"}, {\"name\": \"order_items.returned_raw\", \"description\": \"\"}, {\"name\": \"order_items.returned_time\", \"description\": \"\"}, {\"name\": \"order_items.returned_week\", \"description\": \"\"}, {\"name\": \"order_items.sale_price\", \"description\": \"\"}, {\"name\": \"order_items.shipped_date\", \"description\": \"\"}, {\"name\": \"order_items.shipped_month\", \"description\": \"\"}, {\"name\": \"order_items.shipped_raw\", \"description\": \"\"}, {\"name\": \"order_items.shipped_week\", \"description\": \"\"}, {\"name\": \"order_items.shipping_time\", \"description\": \"\"}, {\"name\": \"order_items.status\", \"description\": \"\"}, {\"name\": \"order_items.user_id\", \"description\": \"\"}, {\"name\": \"order_facts.is_first_purchase\", \"description\": \"\"}, {\"name\": \"order_facts.items_in_order\", \"description\": \"\"}, {\"name\": \"order_items.months_since_signup\", \"description\": \"\"}, {\"name\": \"order_facts.order_amount\", \"description\": \"\"}, {\"name\": \"order_facts.order_cost\", \"description\": \"\"}, {\"name\": \"order_facts.order_gross_margin\", \"description\": \"\"}, {\"name\": \"order_facts.order_id\", \"description\": \"\"}, {\"name\": \"order_facts.order_sequence_number\", \"description\": \"\"}, {\"name\": \"products.brand\", \"description\": \"\"}, {\"name\": \"products.category\", \"description\": \"\"}, {\"name\": \"products.department\", \"description\": \"\"}, {\"name\": \"products.distribution_center_id\", \"description\": \"\"}, {\"name\": \"products.id\", \"description\": \"\"}, {\"name\": \"products.item_name\", \"description\": \"\"}, {\"name\": \"products.retail_price\", \"description\": \"\"}, {\"name\": \"products.sku\", \"description\": \"\"}, {\"name\": \"promo_email.gen_ai\", \"description\": \"\"}, {\"name\": \"promo_email.id\", \"description\": \"\"}, {\"name\": \"promo_email.prompt\", \"description\": \"\"}, {\"name\": \"order_items.days_until_next_order\", \"description\": \"\"}, {\"name\": \"repeat_purchase_facts.has_subsequent_order\", \"description\": \"\"}, {\"name\": \"repeat_purchase_facts.next_order_raw\", \"description\": \"\"}, {\"name\": \"repeat_purchase_facts.next_order_date\", \"description\": \"\"}, {\"name\": \"repeat_purchase_facts.next_order_id\", \"description\": \"\"}, {\"name\": \"repeat_purchase_facts.number_subsequent_orders\", \"description\": \"\"}, {\"name\": \"repeat_purchase_facts.order_id\", \"description\": \"\"}, {\"name\": \"order_items.repeat_orders_within_30d\", \"description\": \"\"}, {\"name\": \"promo_email.generated_text\", \"description\": \"Use with the user email in filter\"}, {\"name\": \"users.promo_email\", \"description\": \"Use this with the user email if you want to send the email - action\"}, {\"name\": \"users.age\", \"description\": \"\"}, {\"name\": \"users.age_tier\", \"description\": \"\"}, {\"name\": \"users.approx_latitude\", \"description\": \"\"}, {\"name\": \"users.approx_location\", \"description\": \"\"}, {\"name\": \"users.approx_longitude\", \"description\": \"\"}, {\"name\": \"users.city\", \"description\": \"\"}, {\"name\": \"users.country\", \"description\": \"\"}, {\"name\": \"users.created_date\", \"description\": \"\"}, {\"name\": \"users.created_day_of_month\", \"description\": \"\"}, {\"name\": \"users.created_day_of_week\", \"description\": \"\"}, {\"name\": \"users.created_day_of_week_index\", \"description\": \"\"}, {\"name\": \"users.created_day_of_year\", \"description\": \"\"}, {\"name\": \"users.created_hour\", \"description\": \"\"}, {\"name\": \"users.created_hour_of_day\", \"description\": \"\"}, {\"name\": \"users.created_minute\", \"description\": \"\"}, {\"name\": \"users.created_month\", \"description\": \"\"}, {\"name\": \"users.created_month_num\", \"description\": \"\"}, {\"name\": \"users.created_month_name\", \"description\": \"\"}, {\"name\": \"users.created_quarter\", \"description\": \"\"}, {\"name\": \"users.created_quarter_of_year\", \"description\": \"\"}, {\"name\": \"users.created_raw\", \"description\": \"\"}, {\"name\": \"users.created_time\", \"description\": \"\"}, {\"name\": \"users.created_time_of_day\", \"description\": \"\"}, {\"name\": \"users.created_week\", \"description\": \"\"}, {\"name\": \"users.created_week_of_year\", \"description\": \"\"}, {\"name\": \"users.created_year\", \"description\": \"\"}, {\"name\": \"user_order_facts.currently_active_customer\", \"description\": \"\"}, {\"name\": \"user_order_facts.days_as_customer\", \"description\": \"Days between first and latest order\"}, {\"name\": \"user_order_facts.days_as_customer_tiered\", \"description\": \"\"}, {\"name\": \"user_order_facts.distinct_months_with_orders\", \"description\": \"\"}, {\"name\": \"users.email\", \"description\": \"\"}, {\"name\": \"users.first_name\", \"description\": \"\"}, {\"name\": \"user_order_facts.first_order_date\", \"description\": \"\"}, {\"name\": \"user_order_facts.first_order_week\", \"description\": \"\"}, {\"name\": \"user_order_facts.first_order_month\", \"description\": \"\"}, {\"name\": \"user_order_facts.first_order_year\", \"description\": \"\"}, {\"name\": \"users.gender\", \"description\": \"\"}, {\"name\": \"users.gender_short\", \"description\": \"\"}, {\"name\": \"users.history\", \"description\": \"\"}, {\"name\": \"users.id\", \"description\": \"\"}, {\"name\": \"users.image_file\", \"description\": \"\"}, {\"name\": \"users.last_name\", \"description\": \"\"}, {\"name\": \"user_order_facts.latest_order_date\", \"description\": \"\"}, {\"name\": \"user_order_facts.latest_order_week\", \"description\": \"\"}, {\"name\": \"user_order_facts.latest_order_month\", \"description\": \"\"}, {\"name\": \"user_order_facts.latest_order_year\", \"description\": \"\"}, {\"name\": \"user_order_facts.lifetime_orders\", \"description\": \"\"}, {\"name\": \"user_order_facts.lifetime_orders_tier\", \"description\": \"\"}, {\"name\": \"user_order_facts.lifetime_revenue_tier\", \"description\": \"\"}, {\"name\": \"user_order_facts.lifetime_revenue\", \"description\": \"\"}, {\"name\": \"users.location\", \"description\": \"\"}, {\"name\": \"users.name\", \"description\": \"\"}, {\"name\": \"users.over_21\", \"description\": \"\"}, {\"name\": \"user_order_facts.repeat_customer\", \"description\": \"Lifetime Count of Orders > 1\"}, {\"name\": \"users.ssn\", \"description\": \"\"}, {\"name\": \"users.ssn_last_4\", \"description\": \"Only users with sufficient permissions will see this data\"}, {\"name\": \"users.state\", \"description\": \"\"}, {\"name\": \"users.traffic_source\", \"description\": \"\"}, {\"name\": \"users.uk_postcode\", \"description\": \"\"}, {\"name\": \"user_order_facts.user_id\", \"description\": \"\"}, {\"name\": \"users.user_image\", \"description\": \"\"}, {\"name\": \"users.zip\", \"description\": \"\"}]\n",
            "[{\"name\": \"turtle::high_value_geos\", \"description\": \"\"}, {\"name\": \"turtle::inventory_aging\", \"description\": \"\"}, {\"name\": \"turtle::severely_delayed_orders\", \"description\": \"\"}, {\"name\": \"turtle::shipments_status\", \"description\": \"\"}, {\"name\": \"turtle::year_over_year\", \"description\": \"\"}, {\"name\": \"discounts.average_discount\", \"description\": \"\"}, {\"name\": \"discounts.count\", \"description\": \"\"}, {\"name\": \"distribution_centers.location_latitude_max\", \"description\": \"\"}, {\"name\": \"distribution_centers.location_latitude_min\", \"description\": \"\"}, {\"name\": \"distribution_centers.location_longitude_max\", \"description\": \"\"}, {\"name\": \"distribution_centers.location_longitude_min\", \"description\": \"\"}, {\"name\": \"inventory_items.average_cost\", \"description\": \"\"}, {\"name\": \"inventory_items.count\", \"description\": \"\"}, {\"name\": \"inventory_items.number_on_hand\", \"description\": \"\"}, {\"name\": \"inventory_items.sold_count\", \"description\": \"\"}, {\"name\": \"inventory_items.sold_percent\", \"description\": \"\"}, {\"name\": \"inventory_items.stock_coverage_ratio\", \"description\": \"Stock on Hand vs Trailing 28d Sales Ratio\"}, {\"name\": \"inventory_items.total_cost\", \"description\": \"\"}, {\"name\": \"order_items.average_days_to_process\", \"description\": \"\"}, {\"name\": \"order_items.average_gross_margin\", \"description\": \"\"}, {\"name\": \"order_items.average_sale_price\", \"description\": \"\"}, {\"name\": \"order_items.average_shipping_time\", \"description\": \"\"}, {\"name\": \"order_items.average_spend_per_user\", \"description\": \"\"}, {\"name\": \"order_items.count\", \"description\": \"\"}, {\"name\": \"order_items.count_last_28d\", \"description\": \"\"}, {\"name\": \"order_items.median_sale_price\", \"description\": \"\"}, {\"name\": \"order_items.return_rate\", \"description\": \"\"}, {\"name\": \"order_items.returned_count\", \"description\": \"\"}, {\"name\": \"order_items.returned_total_sale_price\", \"description\": \"\"}, {\"name\": \"order_items.total_gross_margin\", \"description\": \"\"}, {\"name\": \"order_items.total_gross_margin_percentage\", \"description\": \"\"}, {\"name\": \"order_items.total_sale_price\", \"description\": \"\"}, {\"name\": \"order_items.first_purchase_count\", \"description\": \"\"}, {\"name\": \"order_items.order_count\", \"description\": \"\"}, {\"name\": \"products.brand_count\", \"description\": \"\"}, {\"name\": \"products.category_count\", \"description\": \"\"}, {\"name\": \"products.count\", \"description\": \"\"}, {\"name\": \"products.department_count\", \"description\": \"\"}, {\"name\": \"products.prefered_brands\", \"description\": \"\"}, {\"name\": \"products.prefered_categories\", \"description\": \"\"}, {\"name\": \"order_items.30_day_repeat_purchase_rate\", \"description\": \"The percentage of customers who purchase again within 30 days\"}, {\"name\": \"order_items.count_with_repeat_purchase_within_30d\", \"description\": \"\"}, {\"name\": \"user_order_facts.active_user_count\", \"description\": \"\"}, {\"name\": \"users.approx_location_latitude_min\", \"description\": \"\"}, {\"name\": \"users.approx_location_latitude_max\", \"description\": \"\"}, {\"name\": \"users.approx_location_longitude_min\", \"description\": \"\"}, {\"name\": \"users.approx_location_longitude_max\", \"description\": \"\"}, {\"name\": \"users.average_age\", \"description\": \"\"}, {\"name\": \"user_order_facts.average_lifetime_revenue\", \"description\": \"\"}, {\"name\": \"user_order_facts.average_lifetime_orders\", \"description\": \"\"}, {\"name\": \"users.count\", \"description\": \"\"}, {\"name\": \"users.count_percent_of_total\", \"description\": \"\"}, {\"name\": \"users.location_latitude_min\", \"description\": \"\"}, {\"name\": \"users.location_latitude_max\", \"description\": \"\"}, {\"name\": \"users.location_longitude_min\", \"description\": \"\"}, {\"name\": \"users.location_longitude_max\", \"description\": \"\"}]\n"
          ]
        }
      ],
      "source": [
        "results_model = get_field_values(\"thelook\", \"order_items\") # the model and the explore name.\n",
        "dimensions = json.dumps(results_model[0])\n",
        "measures = json.dumps(results_model[1])\n",
        "#print(dimensions) to see the results\n",
        "#print(measures)"
      ]
    },
    {
      "cell_type": "markdown",
      "metadata": {
        "id": "84Ub57pbB6EN"
      },
      "source": [
        "## Inititating Text Bison to be used\n",
        "Add description later"
      ]
    },
    {
      "cell_type": "code",
      "execution_count": null,
      "metadata": {
        "id": "fsAsHoWDZMpv"
      },
      "outputs": [],
      "source": [
        "import vertexai\n",
        "from vertexai.language_models import TextGenerationModel\n",
        "\n",
        "vertexai.init(project=\"data-analytics-386814\", location=\"us-central1\")\n",
        "parameters = {\n",
        "    \"temperature\": 0.1,\n",
        "    \"max_output_tokens\": 1024,\n",
        "    \"top_p\": 0.8,\n",
        "    \"top_k\": 40\n",
        "}\n",
        "model = TextGenerationModel.from_pretrained(\"text-bison\")"
      ]
    },
    {
      "cell_type": "markdown",
      "source": [
        "# Iterating on PALM 2 API to describe empty fields\n",
        "Add description later\n"
      ],
      "metadata": {
        "id": "56jDjlarNAlp"
      }
    },
    {
      "cell_type": "code",
      "source": [
        "data = json.loads(measures)\n",
        "result_string = \"\"\n",
        "\n",
        "content = \"\"\"You role is to give a short description (maximum 30 charachters) for the following database field, in the context of e-commerce\n",
        "\n",
        "\"\"\" ### Customize this prompt as you wish.\n",
        "\n",
        "for d in data:\n",
        "  field = d['name']\n",
        "  description = model.predict(content + field,\n",
        "     **parameters\n",
        "  )\n",
        "  print(f\"{field}:{description}\\n\")\n",
        "  result_string += f\"{field}:{description}\\n\"\n",
        "  time.sleep(1)"
      ],
      "metadata": {
        "id": "bQA-DCOANHc6",
        "outputId": "18fc5d48-5d58-4e1e-f621-c04f8cccf746",
        "colab": {
          "base_uri": "https://localhost:8080/"
        }
      },
      "execution_count": null,
      "outputs": [
        {
          "output_type": "stream",
          "name": "stdout",
          "text": [
            "turtle::high_value_geos:A list of geographic areas that are high-value for the business.\n",
            "\n",
            "turtle::inventory_aging:The number of days that a product has been in inventory.\n",
            "\n",
            "turtle::severely_delayed_orders:Orders that have been delayed by more than 3 days.\n",
            "\n",
            "turtle::shipments_status:The status of a shipment, e.g. \"shipped\", \"in transit\", \"delivered\".\n",
            "\n",
            "turtle::year_over_year:_growth Year-over-year growth in sales for a given product or category.\n",
            "\n",
            "discounts.average_discount:The average discount offered by a store on its products.\n",
            "\n",
            "discounts.count:Number of discounts available for a product.\n",
            "\n",
            "distribution_centers.location_latitude_max:The maximum latitude of the distribution center's location.\n",
            "\n",
            "distribution_centers.location_latitude_min:The minimum latitude of the distribution center's location.\n",
            "\n",
            "distribution_centers.location_longitude_max:The maximum longitude of all distribution centers.\n",
            "\n",
            "distribution_centers.location_longitude_min:The minimum longitude of the distribution center's location.\n",
            "\n",
            "inventory_items.average_cost:The average cost of an inventory item.\n",
            "\n",
            "inventory_items.count:Number of items in the inventory.\n",
            "\n",
            "inventory_items.number_on_hand:The number of items in stock for a given product.\n",
            "\n",
            "inventory_items.sold_count:The number of times this item has been sold.\n",
            "\n",
            "inventory_items.sold_percent:Percentage of inventory items sold in a given time period.\n",
            "\n",
            "inventory_items.stock_coverage_ratio:The number of days of inventory on hand, based on the average daily sales.\n",
            "\n",
            "inventory_items.total_cost:The total cost of an inventory item, including the cost of the item itself and any associated shipping or handling charges.\n",
            "\n",
            "order_items.average_days_to_process:Average number of days it takes to process an order item.\n",
            "\n",
            "order_items.average_gross_margin:The average gross margin for a product in an order.\n",
            "\n",
            "order_items.average_sale_price:The average price of all items in an order.\n",
            "\n",
            "order_items.average_shipping_time:The average time it takes to ship an order item.\n",
            "\n",
            "order_items.average_spend_per_user:The average amount of money spent by each customer.\n",
            "\n",
            "order_items.count:Number of items in an order\n",
            "\n",
            "order_items.count_last_28d:Number of items ordered in the last 28 days\n",
            "\n",
            "order_items.median_sale_price:The median price of an item in an order.\n",
            "\n",
            "order_items.return_rate:The percentage of items in an order that are returned.\n",
            "\n",
            "order_items.returned_count:Number of times an item was returned.\n",
            "\n",
            "order_items.returned_total_sale_price:The total amount of money refunded for the returned items.\n",
            "\n",
            "order_items.total_gross_margin:The total amount of money made on the sale of an item after deducting the cost of the item.\n",
            "\n",
            "order_items.total_gross_margin_percentage:The percentage of the order price that is profit for the seller.\n",
            "\n",
            "order_items.total_sale_price:The total price of the items in the order.\n",
            "\n",
            "order_items.first_purchase_count:Number of items purchased for the first time by a customer.\n",
            "\n",
            "order_items.order_count:Number of orders for this item.\n",
            "\n",
            "products.brand_count:Number of brands that sell this product.\n",
            "\n",
            "products.category_count:Number of categories a product belongs to.\n",
            "\n",
            "products.count:Number of products in the catalog.\n",
            "\n",
            "products.department_count:Number of departments that the product belongs to.\n",
            "\n",
            "products.prefered_brands:The brands that are most popular with customers for this product.\n",
            "\n",
            "products.prefered_categories:The categories that a product is most likely to be found in.\n",
            "\n",
            "order_items.30_day_repeat_purchase_rate:The percentage of customers who purchased the same item again within 30 days.\n",
            "\n",
            "order_items.count_with_repeat_purchase_within_30d:Number of times an item was purchased again within 30 days of the first purchase\n",
            "\n",
            "user_order_facts.active_user_count:Number of active users who placed orders in the given time period.\n",
            "\n",
            "users.approx_location_latitude_min:The minimum latitude of the user's approximate location.\n",
            "\n",
            "users.approx_location_latitude_max:The maximum latitude of the user's approximate location.\n",
            "\n",
            "users.approx_location_longitude_min:The minimum longitude of the user's approximate location.\n",
            "\n",
            "users.approx_location_longitude_max:The maximum longitude of the user's approximate location.\n",
            "\n",
            "users.average_age:The average age of users who have purchased from the company.\n",
            "\n",
            "user_order_facts.average_lifetime_revenue:Average revenue per user over their lifetime.\n",
            "\n",
            "user_order_facts.average_lifetime_orders:Average number of orders per customer over their lifetime.\n",
            "\n",
            "users.count:Number of users registered in the system.\n",
            "\n",
            "users.count_percent_of_total:Percentage of total users who have made a purchase.\n",
            "\n",
            "users.location_latitude_min:The minimum latitude of the user's location.\n",
            "\n",
            "users.location_latitude_max:The maximum latitude of the user's location.\n",
            "\n",
            "users.location_longitude_min:The minimum longitude of the user's location.\n",
            "\n",
            "users.location_longitude_max:The maximum longitude of the user's location.\n",
            "\n"
          ]
        }
      ]
    },
    {
      "cell_type": "markdown",
      "source": [
        "# Formatting in a simple way\n",
        "Add description later"
      ],
      "metadata": {
        "id": "3lFm5VDcNU5d"
      }
    },
    {
      "cell_type": "code",
      "source": [
        "print(result_string)"
      ],
      "metadata": {
        "id": "Qr_FNaq0NS89",
        "outputId": "416ef5c4-6854-4488-a9ba-d5cad4ee4b10",
        "colab": {
          "base_uri": "https://localhost:8080/"
        }
      },
      "execution_count": null,
      "outputs": [
        {
          "output_type": "stream",
          "name": "stdout",
          "text": [
            "turtle::high_value_geos:A list of geographic areas that are high-value for the business.\n",
            "turtle::inventory_aging:The number of days that a product has been in inventory.\n",
            "turtle::severely_delayed_orders:Orders that have been delayed by more than 3 days.\n",
            "turtle::shipments_status:The status of a shipment, e.g. \"shipped\", \"in transit\", \"delivered\".\n",
            "turtle::year_over_year:_growth Year-over-year growth in sales for a given product or category.\n",
            "discounts.average_discount:The average discount offered by a store on its products.\n",
            "discounts.count:Number of discounts available for a product.\n",
            "distribution_centers.location_latitude_max:The maximum latitude of the distribution center's location.\n",
            "distribution_centers.location_latitude_min:The minimum latitude of the distribution center's location.\n",
            "distribution_centers.location_longitude_max:The maximum longitude of all distribution centers.\n",
            "distribution_centers.location_longitude_min:The minimum longitude of the distribution center's location.\n",
            "inventory_items.average_cost:The average cost of an inventory item.\n",
            "inventory_items.count:Number of items in the inventory.\n",
            "inventory_items.number_on_hand:The number of items in stock for a given product.\n",
            "inventory_items.sold_count:The number of times this item has been sold.\n",
            "inventory_items.sold_percent:Percentage of inventory items sold in a given time period.\n",
            "inventory_items.stock_coverage_ratio:The number of days of inventory on hand, based on the average daily sales.\n",
            "inventory_items.total_cost:The total cost of an inventory item, including the cost of the item itself and any associated shipping or handling charges.\n",
            "order_items.average_days_to_process:Average number of days it takes to process an order item.\n",
            "order_items.average_gross_margin:The average gross margin for a product in an order.\n",
            "order_items.average_sale_price:The average price of all items in an order.\n",
            "order_items.average_shipping_time:The average time it takes to ship an order item.\n",
            "order_items.average_spend_per_user:The average amount of money spent by each customer.\n",
            "order_items.count:Number of items in an order\n",
            "order_items.count_last_28d:Number of items ordered in the last 28 days\n",
            "order_items.median_sale_price:The median price of an item in an order.\n",
            "order_items.return_rate:The percentage of items in an order that are returned.\n",
            "order_items.returned_count:Number of times an item was returned.\n",
            "order_items.returned_total_sale_price:The total amount of money refunded for the returned items.\n",
            "order_items.total_gross_margin:The total amount of money made on the sale of an item after deducting the cost of the item.\n",
            "order_items.total_gross_margin_percentage:The percentage of the order price that is profit for the seller.\n",
            "order_items.total_sale_price:The total price of the items in the order.\n",
            "order_items.first_purchase_count:Number of items purchased for the first time by a customer.\n",
            "order_items.order_count:Number of orders for this item.\n",
            "products.brand_count:Number of brands that sell this product.\n",
            "products.category_count:Number of categories a product belongs to.\n",
            "products.count:Number of products in the catalog.\n",
            "products.department_count:Number of departments that the product belongs to.\n",
            "products.prefered_brands:The brands that are most popular with customers for this product.\n",
            "products.prefered_categories:The categories that a product is most likely to be found in.\n",
            "order_items.30_day_repeat_purchase_rate:The percentage of customers who purchased the same item again within 30 days.\n",
            "order_items.count_with_repeat_purchase_within_30d:Number of times an item was purchased again within 30 days of the first purchase\n",
            "user_order_facts.active_user_count:Number of active users who placed orders in the given time period.\n",
            "users.approx_location_latitude_min:The minimum latitude of the user's approximate location.\n",
            "users.approx_location_latitude_max:The maximum latitude of the user's approximate location.\n",
            "users.approx_location_longitude_min:The minimum longitude of the user's approximate location.\n",
            "users.approx_location_longitude_max:The maximum longitude of the user's approximate location.\n",
            "users.average_age:The average age of users who have purchased from the company.\n",
            "user_order_facts.average_lifetime_revenue:Average revenue per user over their lifetime.\n",
            "user_order_facts.average_lifetime_orders:Average number of orders per customer over their lifetime.\n",
            "users.count:Number of users registered in the system.\n",
            "users.count_percent_of_total:Percentage of total users who have made a purchase.\n",
            "users.location_latitude_min:The minimum latitude of the user's location.\n",
            "users.location_latitude_max:The maximum latitude of the user's location.\n",
            "users.location_longitude_min:The minimum longitude of the user's location.\n",
            "users.location_longitude_max:The maximum longitude of the user's location.\n",
            "\n"
          ]
        }
      ]
    }
  ],
  "metadata": {
    "colab": {
      "cell_execution_strategy": "setup",
      "provenance": []
    },
    "kernelspec": {
      "display_name": "Python 3",
      "name": "python3"
    },
    "language_info": {
      "name": "python"
    }
  },
  "nbformat": 4,
  "nbformat_minor": 0
}